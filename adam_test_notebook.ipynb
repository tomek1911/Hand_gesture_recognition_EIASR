{
 "metadata": {
  "language_info": {
   "codemirror_mode": {
    "name": "ipython",
    "version": 3
   },
   "file_extension": ".py",
   "mimetype": "text/x-python",
   "name": "python",
   "nbconvert_exporter": "python",
   "pygments_lexer": "ipython3",
   "version": "3.8.6-final"
  },
  "orig_nbformat": 2,
  "kernelspec": {
   "name": "python3",
   "display_name": "Python 3",
   "language": "python"
  }
 },
 "nbformat": 4,
 "nbformat_minor": 2,
 "cells": [
  {
   "cell_type": "code",
   "execution_count": 1,
   "metadata": {},
   "outputs": [],
   "source": [
    "import numpy as np\n",
    "import cv2\n",
    "import math"
   ]
  },
  {
   "cell_type": "code",
   "execution_count": 2,
   "metadata": {},
   "outputs": [],
   "source": [
    "from feature_extraction import FeatureExtraction"
   ]
  },
  {
   "cell_type": "code",
   "execution_count": 3,
   "metadata": {},
   "outputs": [],
   "source": [
    "# Load an image in grayscale\n",
    "img = cv2.imread('binary_hand.png', cv2.IMREAD_GRAYSCALE)"
   ]
  },
  {
   "cell_type": "code",
   "execution_count": null,
   "metadata": {},
   "outputs": [],
   "source": [
    "# cv2.imshow('Piatka', img)\n",
    "# cv2.waitKey(0)\n",
    "# cv2.destroyAllWindows()"
   ]
  },
  {
   "cell_type": "code",
   "execution_count": 4,
   "metadata": {},
   "outputs": [],
   "source": [
    "# Make it binary with thresholding\n",
    "ret, thresh_img = cv2.threshold(img, 127, 255, cv2.THRESH_BINARY)"
   ]
  },
  {
   "cell_type": "code",
   "execution_count": 5,
   "metadata": {},
   "outputs": [],
   "source": [
    "feat_dict = FeatureExtraction.getAdamFeatures(thresh_img)"
   ]
  },
  {
   "cell_type": "code",
   "execution_count": 6,
   "metadata": {},
   "outputs": [
    {
     "output_type": "execute_result",
     "data": {
      "text/plain": [
       "{'centroid_x': 190,\n",
       " 'centroid_y': 272,\n",
       " 'hand_area': 54838.5,\n",
       " 'hand_perimeter': 2156.5697504281998,\n",
       " 'hand_area2per': 25.428577021036062,\n",
       " 'rect_area': 136416,\n",
       " 'circle_area': 132025.43126711104,\n",
       " 'line_slope': -39.497368421052634}"
      ]
     },
     "metadata": {},
     "execution_count": 6
    }
   ],
   "source": [
    "feat_dict"
   ]
  },
  {
   "cell_type": "code",
   "execution_count": null,
   "metadata": {},
   "outputs": [],
   "source": [
    "# Find contours\n",
    "contours, hierarchy = cv2.findContours(thresh_img, cv2.RETR_EXTERNAL, cv2.CHAIN_APPROX_SIMPLE)"
   ]
  },
  {
   "cell_type": "code",
   "execution_count": null,
   "metadata": {},
   "outputs": [],
   "source": [
    "# Convert starting image from grayscale to bgr\n",
    "#img = cv2.cvtColor(img, cv2.COLOR_GRAY2BGR)"
   ]
  },
  {
   "cell_type": "code",
   "execution_count": null,
   "metadata": {},
   "outputs": [],
   "source": [
    "# Draw contours on the image and display the result\n",
    "#cv2.drawContours(img, contours, -1, (0,255,0), 3)\n",
    "\n",
    "#cv2.imshow('Piatka', img)\n",
    "#cv2.waitKey(0)\n",
    "#cv2.destroyAllWindows()"
   ]
  },
  {
   "cell_type": "code",
   "execution_count": null,
   "metadata": {},
   "outputs": [],
   "source": [
    "# Unpack an array of contours\n",
    "cnt = contours[0]"
   ]
  },
  {
   "cell_type": "code",
   "execution_count": null,
   "metadata": {},
   "outputs": [],
   "source": [
    "# Moments\n",
    "M = cv2.moments(cnt)\n",
    "\n",
    "# Centroid\n",
    "c_x = int(M['m10']/M['m00'])\n",
    "c_y = int(M['m01']/M['m00'])\n",
    "#print(c_x)\n",
    "#print(c_y)"
   ]
  },
  {
   "cell_type": "code",
   "execution_count": null,
   "metadata": {},
   "outputs": [],
   "source": [
    "# Contour area\n",
    "hand_area = cv2.contourArea(cnt)"
   ]
  },
  {
   "cell_type": "code",
   "execution_count": null,
   "metadata": {},
   "outputs": [],
   "source": [
    "# Contour perimeter\n",
    "hand_perimeter = cv2.arcLength(cnt, True)"
   ]
  },
  {
   "cell_type": "code",
   "execution_count": null,
   "metadata": {},
   "outputs": [],
   "source": [
    "# Contour area to perimeter ratio\n",
    "hand_area2per = hand_area/hand_perimeter"
   ]
  },
  {
   "cell_type": "code",
   "execution_count": null,
   "metadata": {},
   "outputs": [],
   "source": [
    "# Convex - wypukły"
   ]
  },
  {
   "cell_type": "code",
   "execution_count": null,
   "metadata": {},
   "outputs": [],
   "source": [
    "# Straight bounding rectangle\n",
    "# x,y - top left coordinate of the rectangle\n",
    "x,y,w,h = cv2.boundingRect(cnt)\n",
    "# cv2.rectangle(img, (x,y), (x+w,y+h), (255,0,0), 2)     # draw rectangle\n",
    "\n",
    "# Area of straight bounding rectangle\n",
    "rect_area = w * h"
   ]
  },
  {
   "cell_type": "code",
   "execution_count": null,
   "metadata": {},
   "outputs": [],
   "source": [
    "# Minimum Enclosing Circle\n",
    "(x,y), radius = cv2.minEnclosingCircle(cnt)\n",
    "#center = (int(x), int(y))\n",
    "radius = int(radius)\n",
    "# cv2.circle(img, center, radius, (0,0,255), 2)       # draw circle\n",
    "\n",
    "# Area of minimum enclosing circle\n",
    "circle_area = math.pi * radius * radius"
   ]
  },
  {
   "cell_type": "code",
   "execution_count": null,
   "metadata": {},
   "outputs": [],
   "source": [
    "# Approximation of a straight line\n",
    "rows, cols = img.shape[:2]\n",
    "[vx,vy,x,y] = cv2.fitLine(cnt, cv2.DIST_L2, 0, 0.01, 0.01)\n",
    "\n",
    "# two extreme points y-coordinates on the line to draw line\n",
    "lefty = int((-x*vy/vx) + y)\n",
    "righty = int( ( (cols-x) * vy / vx) + y)\n",
    "\n",
    "#cv2.line(img, (cols-1, righty), (0, lefty), (0,255,0), 2)    # draw line\n",
    "\n",
    "# Slope of the line\n",
    "line_slope = (lefty - righty) / (0 - (cols-1))"
   ]
  },
  {
   "cell_type": "code",
   "execution_count": null,
   "metadata": {},
   "outputs": [],
   "source": [
    "# Line attributes\n",
    "#slope  = (y2 - y1) / (x2 - x1)\n",
    "#length = norm(p2 - p1)"
   ]
  }
 ]
}