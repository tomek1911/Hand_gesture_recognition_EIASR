{
 "metadata": {
  "language_info": {
   "codemirror_mode": {
    "name": "ipython",
    "version": 3
   },
   "file_extension": ".py",
   "mimetype": "text/x-python",
   "name": "python",
   "nbconvert_exporter": "python",
   "pygments_lexer": "ipython3",
   "version": "3.8.3-final"
  },
  "orig_nbformat": 2,
  "kernelspec": {
   "name": "python3",
   "display_name": "Python 3.8.3 64-bit ('eiasr': conda)",
   "metadata": {
    "interpreter": {
     "hash": "d99f3835ae42ca294b0b84248c65fc3caddabfe21f79ec5810b8dfcbef5777b0"
    }
   }
  }
 },
 "nbformat": 4,
 "nbformat_minor": 2,
 "cells": [
  {
   "cell_type": "code",
   "execution_count": 5,
   "metadata": {},
   "outputs": [],
   "source": [
    "from pathlib import Path\n",
    "import matplotlib.pyplot as plt\n",
    "import numpy as np\n",
    "import pandas as pd\n",
    "%matplotlib notebook\n",
    "from sklearn import svm, metrics, datasets\n",
    "from sklearn.utils import Bunch\n",
    "from sklearn.model_selection import GridSearchCV, train_test_split\n",
    "\n",
    "from skimage.io import imread\n",
    "from skimage.transform import resize\n",
    "\n",
    "from data_preprocessing import DataPreprocessing\n",
    "from feature_extraction import FeatureExtraction\n",
    "from hand_recognition_main import DataLoader"
   ]
  },
  {
   "cell_type": "code",
   "execution_count": 11,
   "metadata": {},
   "outputs": [
    {
     "output_type": "stream",
     "name": "stdout",
     "text": [
      "Found: 579 images in folder.\nList of images to load is empty or images are already loaded\n"
     ]
    }
   ],
   "source": [
    "dLoader_obj = DataLoader(os.path.join(\"Processed\",\"ResizedImages\"))\n",
    "dLoader_obj.describeLoadedData()\n",
    "dLoader_obj.loadImagesCv()\n",
    "listOfImagesDirectories = dLoader_obj.imagesList_dir\n",
    "# listOfImagesDirectories = listOfImagesDirectories[0:10]\n",
    "\n",
    "imageData = [elem.replace('.jpg','').split(\"_\") for elem in listOfImagesDirectories]\n",
    "signsList = [elem[0] for elem in imageData]\n",
    "idsList = [elem[1] for elem in imageData]\n",
    "authorsList = [elem[2] for elem in imageData]\n",
    "\n",
    "df = pd.DataFrame(list(zip(signsList, idsList, authorsList)), \n",
    "               columns =['Sign', 'InClassId','Author']) \n",
    "\n",
    "flatten_dataset = [img_data.flatten() for img_data in dLoader_obj.imagesList_cv[:100] ]\n",
    "ascii_text = [ str(ord(elem)) for elem in signsList[:100] ]\n",
    "image_dataset = Bunch(image_data=flatten_dataset, signs_list=ascii_text, idsList=idsList, authorsList=authorsList)"
   ]
  },
  {
   "cell_type": "code",
   "execution_count": 12,
   "metadata": {
    "tags": []
   },
   "outputs": [],
   "source": [
    "X_train, X_test, y_train, y_test = train_test_split(\n",
    "    image_dataset.image_data, image_dataset.signs_list, test_size=0.3,random_state=109)"
   ]
  },
  {
   "cell_type": "code",
   "execution_count": 13,
   "metadata": {},
   "outputs": [
    {
     "output_type": "execute_result",
     "data": {
      "text/plain": [
       "GridSearchCV(estimator=SVC(),\n",
       "             param_grid=[{'C': [1, 10, 100, 1000], 'kernel': ['linear']},\n",
       "                         {'C': [1, 10, 100, 1000], 'gamma': [0.001, 0.0001],\n",
       "                          'kernel': ['rbf']}])"
      ]
     },
     "metadata": {},
     "execution_count": 13
    }
   ],
   "source": [
    "param_grid = [\n",
    "  {'C': [1, 10, 100, 1000], 'kernel': ['linear']},\n",
    "  {'C': [1, 10, 100, 1000], 'gamma': [0.001, 0.0001], 'kernel': ['rbf']},\n",
    " ]\n",
    "svc = svm.SVC()\n",
    "clf = GridSearchCV(svc, param_grid)\n",
    "clf.fit(X_train, y_train)"
   ]
  },
  {
   "cell_type": "code",
   "execution_count": 14,
   "metadata": {},
   "outputs": [],
   "source": [
    "y_pred = clf.predict(X_test)"
   ]
  },
  {
   "cell_type": "code",
   "execution_count": 19,
   "metadata": {},
   "outputs": [
    {
     "output_type": "stream",
     "name": "stdout",
     "text": [
      "Classification report for - \nGridSearchCV(estimator=SVC(),\n             param_grid=[{'C': [1, 10, 100, 1000], 'kernel': ['linear']},\n                         {'C': [1, 10, 100, 1000], 'gamma': [0.001, 0.0001],\n                          'kernel': ['rbf']}]):\n              precision    recall  f1-score   support\n\n          65       0.00      0.00      0.00         2\n          66       0.00      0.00      0.00         3\n          67       0.00      0.00      0.00         2\n          69       1.00      0.67      0.80         3\n          70       1.00      1.00      1.00         2\n          71       1.00      0.50      0.67         2\n          72       0.00      0.00      0.00         0\n          73       0.00      0.00      0.00         1\n          75       1.00      1.00      1.00         1\n          77       0.00      0.00      0.00         0\n          78       1.00      1.00      1.00         3\n          79       0.33      1.00      0.50         1\n          80       0.00      0.00      0.00         2\n          81       0.00      0.00      0.00         2\n          82       1.00      1.00      1.00         1\n          83       1.00      1.00      1.00         1\n          84       1.00      1.00      1.00         1\n          85       0.00      0.00      0.00         0\n          86       0.00      0.00      0.00         2\n          87       0.00      0.00      0.00         0\n          89       0.00      0.00      0.00         1\n\n    accuracy                           0.43        30\n   macro avg       0.40      0.39      0.38        30\nweighted avg       0.48      0.43      0.44        30\n\n\n"
     ]
    }
   ],
   "source": [
    "print(\"Classification report for - \\n{}:\\n{}\\n\".format(\n",
    "    clf, metrics.classification_report(y_test, y_pred)))"
   ]
  },
  {
   "cell_type": "code",
   "execution_count": null,
   "metadata": {},
   "outputs": [],
   "source": []
  }
 ]
}